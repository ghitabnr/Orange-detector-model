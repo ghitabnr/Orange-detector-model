{
  "nbformat": 4,
  "nbformat_minor": 0,
  "metadata": {
    "colab": {
      "provenance": [],
      "authorship_tag": "ABX9TyNT/W5Bb35ChbE6uLB4oxWV",
      "include_colab_link": true
    },
    "kernelspec": {
      "name": "python3",
      "display_name": "Python 3"
    },
    "language_info": {
      "name": "python"
    }
  },
  "cells": [
    {
      "cell_type": "markdown",
      "metadata": {
        "id": "view-in-github",
        "colab_type": "text"
      },
      "source": [
        "<a href=\"https://colab.research.google.com/github/ghitabnr/Orange-detector-model/blob/main/test.ipynb\" target=\"_parent\"><img src=\"https://colab.research.google.com/assets/colab-badge.svg\" alt=\"Open In Colab\"/></a>"
      ]
    },
    {
      "cell_type": "code",
      "execution_count": null,
      "metadata": {
        "id": "CDGRYpLkAWoo"
      },
      "outputs": [],
      "source": [
        "from google.colab import drive\n",
        "drive.mount('/content/drive')"
      ]
    },
    {
      "cell_type": "code",
      "source": [
        "import torch\n",
        "from pathlib import Path\n",
        "import torch\n",
        "import os\n",
        "!git clone https://github.com/ultralytics/yolov5\n",
        "%cd yolov5\n",
        "%pip install -r requirements.txt"
      ],
      "metadata": {
        "id": "Mgp5u6GmAebx"
      },
      "execution_count": null,
      "outputs": []
    },
    {
      "cell_type": "code",
      "source": [
        "model_path = '/content/drive/MyDrive/ColabNotebooks/best.pt'\n",
        "model = torch.load(model_path, map_location=torch.device('cpu'))"
      ],
      "metadata": {
        "id": "-x1tYCupAgiE"
      },
      "execution_count": null,
      "outputs": []
    },
    {
      "cell_type": "code",
      "source": [
        "!python /content/yolov5/detect.py --weights /content/drive/MyDrive/ColabNotebooks/best.pt --img 672 --conf 0.1 --source /content/drive/MyDrive/ColabNotebooks/data_combined/dataset1/OrangeDetection1/valid/images"
      ],
      "metadata": {
        "id": "GJJXw8NcAk2Y"
      },
      "execution_count": null,
      "outputs": []
    },
    {
      "cell_type": "code",
      "source": [
        "!python /content/yolov5/detect.py --weights /content/drive/MyDrive/ColabNotebooks/best.pt --img 672 --conf 0.1 --source /content/drive/MyDrive/ColabNotebooks/data_combined/dataset2/cropload/valid/images"
      ],
      "metadata": {
        "id": "95VSJL5DApCw"
      },
      "execution_count": null,
      "outputs": []
    },
    {
      "cell_type": "code",
      "source": [
        "!python /content/yolov5/detect.py --weights /content/drive/MyDrive/ColabNotebooks/best.pt --img 672 --conf 0.1 --source /content/drive/MyDrive/ColabNotebooks/data_combined/dataset3/FinalDataset/valid/images"
      ],
      "metadata": {
        "id": "1x2-FILwBArR"
      },
      "execution_count": null,
      "outputs": []
    },
    {
      "cell_type": "code",
      "source": [
        "!python /content/yolov5/detect.py --weights /content/drive/MyDrive/ColabNotebooks/best.pt --img 672 --conf 0.1 --source /content/drive/MyDrive/ColabNotebooks/test/video"
      ],
      "metadata": {
        "id": "aavOB_26BDbY"
      },
      "execution_count": null,
      "outputs": []
    },
    {
      "cell_type": "code",
      "source": [
        "import os\n",
        "from PIL import Image\n",
        "\n",
        "# Function to crop an image into 4 pieces\n",
        "def crop_image(image):\n",
        "    width, height = image.size\n",
        "    piece_width = width // 2\n",
        "    piece_height = height // 2\n",
        "    pieces = []\n",
        "    for j in range(2):\n",
        "        for i in range(2):\n",
        "            box = (i * piece_width, j * piece_height, (i + 1) * piece_width, (j + 1) * piece_height)\n",
        "            piece = image.crop(box)\n",
        "            pieces.append(piece)\n",
        "    return pieces\n",
        "\n",
        "# Path to the directory containing the input images\n",
        "input_directory = \"/content/drive/MyDrive/ColabNotebooks/test/imagesinput\"\n",
        "output_directory = \"/content/drive/MyDrive/ColabNotebooks/test/imagesdecoupees\"\n",
        "\n",
        "# Iterate through all images in the directory\n",
        "for filename in os.listdir(input_directory):\n",
        "    if filename.endswith(\".jpg\") or filename.endswith(\".png\") or filename.endswith(\".JPG\"): # Filter image files\n",
        "        # Load the image\n",
        "        image_path = os.path.join(input_directory, filename)\n",
        "        image = Image.open(image_path)\n",
        "\n",
        "        # Crop the image into pieces\n",
        "        pieces = crop_image(image)\n",
        "\n",
        "        # Save the pieces in the output directory\n",
        "        for idx, piece in enumerate(pieces):\n",
        "            piece_filename = f\"{filename.split('.')[0]}%piece{idx}.JPG\"\n",
        "            piece_path = os.path.join(output_directory, piece_filename)\n",
        "            piece.save(piece_path)\n",
        "\n",
        "            # Display the positions of each piece\n",
        "            print(f\"Position of {piece_filename}: {idx % 2}, {idx // 2}\")\n",
        "\n",
        "print(\"Cropping completed.\")\n"
      ],
      "metadata": {
        "id": "_4vg7JS0BF5a"
      },
      "execution_count": null,
      "outputs": []
    },
    {
      "cell_type": "code",
      "source": [
        "!python /content/yolov5/detect.py  --weights /content/drive/MyDrive/ColabNotebooks/best.pt  --img 672 --conf 0.1 --source /content/drive/MyDrive/ColabNotebooks/test/imagesdecoupees"
      ],
      "metadata": {
        "id": "a1lU6CDcBIWk"
      },
      "execution_count": null,
      "outputs": []
    },
    {
      "cell_type": "code",
      "source": [
        "import os\n",
        "from PIL import Image\n",
        "\n",
        "# Function to reconstruct an image from pieces\n",
        "def reconstruct_image(pieces, output_path):\n",
        "    # Get dimensions of a piece\n",
        "    piece_width, piece_height = pieces[0].size\n",
        "\n",
        "    # Calculate dimensions of the reconstructed image\n",
        "    image_width = piece_width * 2\n",
        "    image_height = piece_height * 2\n",
        "\n",
        "    # Create a new image to reconstruct the original image\n",
        "    reconstructed_image = Image.new(\"RGB\", (image_width, image_height))\n",
        "\n",
        "    # Assemble the pieces to reconstruct the original image\n",
        "    for idx, piece in enumerate(pieces):\n",
        "        x = idx % 2\n",
        "        y = idx // 2\n",
        "        reconstructed_image.paste(piece, (x * piece_width, y * piece_height))\n",
        "\n",
        "    # Save the reconstructed image\n",
        "    reconstructed_image.save(output_path)\n",
        "\n",
        "# Path to the directory containing image pieces\n",
        "input_directory = \"/content/yolov5/runs/detect/exp\"\n",
        "output_directory = \"/content/drive/MyDrive/ColabNotebooks/test/imagesoutput\"\n",
        "\n",
        "# Iterate through all image pieces in the directory\n",
        "image_pieces = {}\n",
        "for filename in sorted(os.listdir(input_directory)):  # Added sorted() here\n",
        "    if filename.endswith(\".jpg\") or filename.endswith(\".png\") or filename.endswith(\".JPG\"):  # Filter image files\n",
        "        # Extract the name of the original image from the piece name\n",
        "        image_name = filename.split(\"%\")[0]\n",
        "\n",
        "        # Load the image piece\n",
        "        piece_path = os.path.join(input_directory, filename)\n",
        "        piece = Image.open(piece_path)\n",
        "\n",
        "        # Add the piece to the list of pieces associated with the original image\n",
        "        if image_name not in image_pieces:\n",
        "            image_pieces[image_name] = []\n",
        "        image_pieces[image_name].append(piece)\n",
        "\n",
        "# Before reconstituting each image, sort the pieces by their intended order\n",
        "for image_name, pieces in image_pieces.items():\n",
        "    # Assuming your pieces are named with an ending number indicating their order\n",
        "    pieces_sorted = sorted(pieces, key=lambda x: int(x.filename.split('%')[-1].split('.')[0].replace('piece', '')))\n",
        "    # Output path for the reconstructed image\n",
        "    output_path = os.path.join(output_directory, f\"{image_name}%reconstructed.JPG\")\n",
        "    # Reconstruct the image with the sorted pieces and save\n",
        "    reconstruct_image(pieces_sorted, output_path)\n",
        "\n",
        "print(\"Reconstruction completed.\")\n"
      ],
      "metadata": {
        "id": "Vo9vMLo7BKkz"
      },
      "execution_count": null,
      "outputs": []
    },
    {
      "cell_type": "code",
      "source": [
        "import os\n",
        "import shutil\n",
        "\n",
        "def empty_directory(directory):\n",
        "    \"\"\"\n",
        "    Vide un répertoire en supprimant tous ses fichiers et sous-répertoires.\n",
        "    Args:\n",
        "        directory (str): Chemin du répertoire à vider.\n",
        "    \"\"\"\n",
        "    for filename in os.listdir(directory):\n",
        "        file_path = os.path.join(directory, filename)\n",
        "        try:\n",
        "            if os.path.isfile(file_path) or os.path.islink(file_path):\n",
        "                os.unlink(file_path)\n",
        "            elif os.path.isdir(file_path):\n",
        "                shutil.rmtree(file_path)\n",
        "        except Exception as e:\n",
        "            print('Erreur lors de la suppression du fichier %s : %s' % (file_path, e))\n",
        "\n",
        "# Spécifiez les chemins des répertoires que vous souhaitez vider\n",
        "directories_to_empty = [\n",
        "    '/content/yolov5/runs/detect',\n",
        "    '/content/drive/MyDrive/ColabNotebooks/test/video',\n",
        "    '/content/drive/MyDrive/ColabNotebooks/test/imagesoutput',\n",
        "    '/content/drive/MyDrive/ColabNotebooks/test/imagesinput',\n",
        "    '/content/drive/MyDrive/ColabNotebooks/test/imagesdecoupees',\n",
        "\n",
        "    # Ajoutez d'autres répertoires au besoin\n",
        "]\n",
        "\n",
        "# Videz chaque répertoire spécifié\n",
        "for directory in directories_to_empty:\n",
        "    print(\"Vidage du répertoire :\", directory)\n",
        "    empty_directory(directory)\n"
      ],
      "metadata": {
        "id": "2VbU03nIBPQ3"
      },
      "execution_count": null,
      "outputs": []
    }
  ]
}